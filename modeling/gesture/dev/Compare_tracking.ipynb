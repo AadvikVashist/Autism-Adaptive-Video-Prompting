{
 "cells": [
  {
   "cell_type": "code",
   "execution_count": 12,
   "metadata": {},
   "outputs": [
    {
     "ename": "error",
     "evalue": "OpenCV(4.6.0) D:\\a\\opencv-python\\opencv-python\\opencv\\modules\\dnn\\src\\caffe\\caffe_io.cpp:1138: error: (-2:Unspecified error) FAILED: fs.is_open(). Can't open \"C:/Users/aadvi/Desktop/Autism/Autism-Adaptive-Video-Prompting/configwasd.py/models/upscaling/ESPCN_x2.pb\" in function 'cv::dnn::ReadProtoFromBinaryFile'\n",
     "output_type": "error",
     "traceback": [
      "\u001b[1;31m---------------------------------------------------------------------------\u001b[0m",
      "\u001b[1;31merror\u001b[0m                                     Traceback (most recent call last)",
      "Cell \u001b[1;32mIn [12], line 2\u001b[0m\n\u001b[0;32m      1\u001b[0m \u001b[39mfrom\u001b[39;00m \u001b[39mgesture_tracker\u001b[39;00m \u001b[39mimport\u001b[39;00m gesture_tracker\n\u001b[1;32m----> 2\u001b[0m \u001b[39mfrom\u001b[39;00m \u001b[39mgesture_tracker_multithreading\u001b[39;00m \u001b[39mimport\u001b[39;00m gesture_tracker_multithreaded\n\u001b[0;32m      3\u001b[0m \u001b[39mimport\u001b[39;00m \u001b[39mtime\u001b[39;00m\n\u001b[0;32m      4\u001b[0m \u001b[39mimport\u001b[39;00m \u001b[39mos\u001b[39;00m\n",
      "File \u001b[1;32mc:\\Users\\aadvi\\Desktop\\Autism\\Autism-Adaptive-Video-Prompting\\modeling\\gesture\\gesture_tracker_multithreading.py:129\u001b[0m\n\u001b[0;32m    126\u001b[0m             \u001b[39mreturn\u001b[39;00m saved, time\u001b[39m.\u001b[39mtime() \u001b[39m-\u001b[39m start_time\n\u001b[0;32m    127\u001b[0m         \u001b[39mreturn\u001b[39;00m \u001b[39mNone\u001b[39;00m, time\u001b[39m.\u001b[39mtime() \u001b[39m-\u001b[39m start_time\n\u001b[1;32m--> 129\u001b[0m a \u001b[39m=\u001b[39m gesture_tracker_multithreaded()\n\u001b[0;32m    130\u001b[0m a\u001b[39m.\u001b[39mrealtime_analysis()\n",
      "File \u001b[1;32mc:\\Users\\aadvi\\Desktop\\Autism\\Autism-Adaptive-Video-Prompting\\modeling\\gesture\\gesture_tracker.py:66\u001b[0m, in \u001b[0;36mgesture_tracker.__init__\u001b[1;34m(self, eye, face, hand, pose, eye_confidence, face_confidence, hand_confidence, pose_confidence, number_of_hands)\u001b[0m\n\u001b[0;32m     61\u001b[0m \u001b[39mself\u001b[39m\u001b[39m.\u001b[39msuper_resolution \u001b[39m=\u001b[39m {\u001b[39m\"\u001b[39m\u001b[39m2\u001b[39m\u001b[39m\"\u001b[39m : cv2\u001b[39m.\u001b[39mdnn_superres\u001b[39m.\u001b[39mDnnSuperResImpl_create(),\n\u001b[0;32m     62\u001b[0m                         \u001b[39m\"\u001b[39m\u001b[39m3\u001b[39m\u001b[39m\"\u001b[39m : cv2\u001b[39m.\u001b[39mdnn_superres\u001b[39m.\u001b[39mDnnSuperResImpl_create(),\n\u001b[0;32m     63\u001b[0m                         \u001b[39m\"\u001b[39m\u001b[39m4\u001b[39m\u001b[39m\"\u001b[39m : cv2\u001b[39m.\u001b[39mdnn_superres\u001b[39m.\u001b[39mDnnSuperResImpl_create(),\n\u001b[0;32m     64\u001b[0m                         }\n\u001b[0;32m     65\u001b[0m \u001b[39mfor\u001b[39;00m i \u001b[39min\u001b[39;00m \u001b[39mrange\u001b[39m(\u001b[39m2\u001b[39m,\u001b[39m5\u001b[39m):\n\u001b[1;32m---> 66\u001b[0m     \u001b[39mself\u001b[39;49m\u001b[39m.\u001b[39;49msuper_resolution[\u001b[39mstr\u001b[39;49m(i)]\u001b[39m.\u001b[39;49mreadModel(subdir_path(\u001b[39m\"\u001b[39;49m\u001b[39mmodels/upscaling/ESPCN_x\u001b[39;49m\u001b[39m\"\u001b[39;49m \u001b[39m+\u001b[39;49m \u001b[39mstr\u001b[39;49m(i) \u001b[39m+\u001b[39;49m \u001b[39m\"\u001b[39;49m\u001b[39m.pb\u001b[39;49m\u001b[39m\"\u001b[39;49m))\n\u001b[0;32m     67\u001b[0m     \u001b[39mself\u001b[39m\u001b[39m.\u001b[39msuper_resolution[\u001b[39mstr\u001b[39m(i)]\u001b[39m.\u001b[39msetModel(\u001b[39m\"\u001b[39m\u001b[39mespcn\u001b[39m\u001b[39m\"\u001b[39m, i)\n\u001b[0;32m     69\u001b[0m \u001b[39mself\u001b[39m\u001b[39m.\u001b[39mmediapipe_drawing \u001b[39m=\u001b[39m mp\u001b[39m.\u001b[39msolutions\u001b[39m.\u001b[39mdrawing_utils\n",
      "\u001b[1;31merror\u001b[0m: OpenCV(4.6.0) D:\\a\\opencv-python\\opencv-python\\opencv\\modules\\dnn\\src\\caffe\\caffe_io.cpp:1138: error: (-2:Unspecified error) FAILED: fs.is_open(). Can't open \"C:/Users/aadvi/Desktop/Autism/Autism-Adaptive-Video-Prompting/configwasd.py/models/upscaling/ESPCN_x2.pb\" in function 'cv::dnn::ReadProtoFromBinaryFile'\n"
     ]
    }
   ],
   "source": [
    "from gesture_tracker import gesture_tracker\n",
    "from gesture_tracker_multithreading import gesture_tracker_multithreaded\n",
    "import time\n",
    "import os\n",
    "root_dir = \"x\" \n",
    "compare = {  \"A\" : {\"class\" : gesture_tracker() },\n",
    "             \"B\" : {\"class\" : gesture_tracker_multithreaded()}}\n",
    "files = os.listdir(root_dir)\n",
    "for file in files:\n",
    "    for key in compare.keys():\n",
    "        start = time.time()\n",
    "        compare[key][\"class\"].video_analysis(file)\n",
    "        compare[key]['/'.join(file.split(\"/\")[0:2])] = time.time() - start\n",
    "keys = [i for i in list(compare[list(compare.keys())[0]].keys()) if \"class\" not in i]\n",
    "for key in keys:\n",
    "    result = [index + \": \" + str(itemi[0]) for index,itemi in enumerate(compare.items())]\n",
    "    print(result, sep = \"|\", end = \"\\n\")\n",
    "        "
   ]
  },
  {
   "cell_type": "code",
   "execution_count": null,
   "metadata": {},
   "outputs": [],
   "source": []
  }
 ],
 "metadata": {
  "kernelspec": {
   "display_name": "Python 3",
   "language": "python",
   "name": "python3"
  },
  "language_info": {
   "codemirror_mode": {
    "name": "ipython",
    "version": 3
   },
   "file_extension": ".py",
   "mimetype": "text/x-python",
   "name": "python",
   "nbconvert_exporter": "python",
   "pygments_lexer": "ipython3",
   "version": "3.10.8 (tags/v3.10.8:aaaf517, Oct 11 2022, 16:50:30) [MSC v.1933 64 bit (AMD64)]"
  },
  "orig_nbformat": 4,
  "vscode": {
   "interpreter": {
    "hash": "26de051ba29f2982a8de78e945f0abaf191376122a1563185a90213a26c5da77"
   }
  }
 },
 "nbformat": 4,
 "nbformat_minor": 2
}
